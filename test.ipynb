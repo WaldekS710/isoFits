{
 "cells": [
  {
   "cell_type": "code",
   "execution_count": 1,
   "id": "7ec0d3b1",
   "metadata": {},
   "outputs": [],
   "source": [
    "from odchylki import isotol"
   ]
  },
  {
   "cell_type": "code",
   "execution_count": 2,
   "id": "30a25741",
   "metadata": {},
   "outputs": [
    {
     "name": "stdout",
     "output_type": "stream",
     "text": [
      "29h7 (-21, 0, 28.979, 29.0)\n"
     ]
    }
   ],
   "source": [
    "print(f'29h7 {isotol(\"29h7\")}')"
   ]
  },
  {
   "cell_type": "code",
   "execution_count": 3,
   "id": "a32e171c",
   "metadata": {},
   "outputs": [
    {
     "name": "stdout",
     "output_type": "stream",
     "text": [
      "29H7 {'EI': 0, 'ES': 21, 'A': 29.0, 'B': 29.021}\n"
     ]
    }
   ],
   "source": [
    "print(f'29H7 {isotol(\"29H7\",Dictionary=True)}')"
   ]
  },
  {
   "cell_type": "code",
   "execution_count": 4,
   "id": "82e05e46",
   "metadata": {},
   "outputs": [
    {
     "name": "stdout",
     "output_type": "stream",
     "text": [
      "29H7/h8 {'T': 54, 'L_min': 0, 'L_max': 54}\n"
     ]
    }
   ],
   "source": [
    "print(f'29H7/h8 {isotol(\"29H7/h8\",Dictionary=True )}')"
   ]
  },
  {
   "cell_type": "code",
   "execution_count": 5,
   "id": "7b3758ec",
   "metadata": {},
   "outputs": [
    {
     "name": "stdout",
     "output_type": "stream",
     "text": [
      "T=54\n",
      "L_min=0\n",
      "L_max=54\n",
      "29H7/h8 {'T': 54, 'L_min': 0, 'L_max': 54}\n"
     ]
    }
   ],
   "source": [
    "print(f'29H7/h8 {isotol(\"29H7/h8\",Dictionary=True, opis=True)}')"
   ]
  },
  {
   "cell_type": "code",
   "execution_count": null,
   "id": "a68f5d01",
   "metadata": {},
   "outputs": [],
   "source": []
  }
 ],
 "metadata": {
  "kernelspec": {
   "display_name": "Python 3 (ipykernel)",
   "language": "python",
   "name": "python3"
  },
  "language_info": {
   "codemirror_mode": {
    "name": "ipython",
    "version": 3
   },
   "file_extension": ".py",
   "mimetype": "text/x-python",
   "name": "python",
   "nbconvert_exporter": "python",
   "pygments_lexer": "ipython3",
   "version": "3.8.3"
  }
 },
 "nbformat": 4,
 "nbformat_minor": 5
}
